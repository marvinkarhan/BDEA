{
 "cells": [
  {
   "cell_type": "code",
   "execution_count": 5,
   "metadata": {},
   "outputs": [],
   "source": [
    "import pandas as pd\n",
    "import os"
   ]
  },
  {
   "cell_type": "code",
   "execution_count": 17,
   "metadata": {},
   "outputs": [],
   "source": [
    "titles = pd.concat([pd.read_csv(os.path.join(root, f)) for root, _, files in os.walk('./kaggle/') for f in files if f.endswith('titles.csv')], axis = 0).reset_index()\n",
    "titles.drop(['index'], axis=1, inplace=True)"
   ]
  },
  {
   "cell_type": "code",
   "execution_count": 21,
   "metadata": {},
   "outputs": [
    {
     "name": "stdout",
     "output_type": "stream",
     "text": [
      "<class 'pandas.core.frame.DataFrame'>\n",
      "Int64Index: 23362 entries, 0 to 25245\n",
      "Data columns (total 15 columns):\n",
      " #   Column                Non-Null Count  Dtype  \n",
      "---  ------                --------------  -----  \n",
      " 0   id                    23362 non-null  object \n",
      " 1   title                 23362 non-null  object \n",
      " 2   type                  23362 non-null  object \n",
      " 3   description           23167 non-null  object \n",
      " 4   release_year          23362 non-null  int64  \n",
      " 5   age_certification     11381 non-null  object \n",
      " 6   runtime               23362 non-null  int64  \n",
      " 7   genres                23362 non-null  object \n",
      " 8   production_countries  23362 non-null  object \n",
      " 9   seasons               5623 non-null   float64\n",
      " 10  imdb_id               21412 non-null  object \n",
      " 11  imdb_score            20804 non-null  float64\n",
      " 12  imdb_votes            20744 non-null  float64\n",
      " 13  tmdb_popularity       22642 non-null  float64\n",
      " 14  tmdb_score            20362 non-null  float64\n",
      "dtypes: float64(5), int64(2), object(8)\n",
      "memory usage: 2.9+ MB\n"
     ]
    }
   ],
   "source": [
    "titles.drop_duplicates(inplace=True)\n",
    "titles.info()"
   ]
  }
 ],
 "metadata": {
  "kernelspec": {
   "display_name": "Python 3",
   "language": "python",
   "name": "python3"
  },
  "language_info": {
   "codemirror_mode": {
    "name": "ipython",
    "version": 3
   },
   "file_extension": ".py",
   "mimetype": "text/x-python",
   "name": "python",
   "nbconvert_exporter": "python",
   "pygments_lexer": "ipython3",
   "version": "3.9.4"
  },
  "orig_nbformat": 4
 },
 "nbformat": 4,
 "nbformat_minor": 2
}
