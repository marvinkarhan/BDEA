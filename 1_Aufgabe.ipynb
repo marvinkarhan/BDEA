{
 "cells": [
  {
   "cell_type": "code",
   "execution_count": 6,
   "metadata": {},
   "outputs": [],
   "source": [
    "import pandas as pd\n",
    "import os"
   ]
  },
  {
   "attachments": {},
   "cell_type": "markdown",
   "metadata": {},
   "source": [
    "## Load Data\n",
    "\n",
    "Lade die Daten aus dem Ordner `kaggle` in einen Pandas DataFrame. Die Daten sind nach Streaming Anbieter unterteilt und jeweils in der `titles.csv` Datei gespeichert."
   ]
  },
  {
   "cell_type": "code",
   "execution_count": 50,
   "metadata": {},
   "outputs": [
    {
     "name": "stdout",
     "output_type": "stream",
     "text": [
      "<class 'pandas.core.frame.DataFrame'>\n",
      "RangeIndex: 25246 entries, 0 to 25245\n",
      "Data columns (total 15 columns):\n",
      " #   Column                Non-Null Count  Dtype  \n",
      "---  ------                --------------  -----  \n",
      " 0   id                    25246 non-null  object \n",
      " 1   title                 25246 non-null  object \n",
      " 2   type                  25246 non-null  object \n",
      " 3   description           25050 non-null  object \n",
      " 4   release_year          25246 non-null  int64  \n",
      " 5   age_certification     12097 non-null  object \n",
      " 6   runtime               25246 non-null  int64  \n",
      " 7   genres                25246 non-null  object \n",
      " 8   production_countries  25246 non-null  object \n",
      " 9   seasons               5791 non-null   float64\n",
      " 10  imdb_id               23260 non-null  object \n",
      " 11  imdb_score            22646 non-null  float64\n",
      " 12  imdb_votes            22586 non-null  float64\n",
      " 13  tmdb_popularity       24519 non-null  float64\n",
      " 14  tmdb_score            22109 non-null  float64\n",
      "dtypes: float64(5), int64(2), object(8)\n",
      "memory usage: 2.9+ MB\n"
     ]
    }
   ],
   "source": [
    "titles = pd.concat([pd.read_csv(os.path.join(root, f)) for root, _, files in os.walk('./kaggle/') for f in files if f.endswith('titles.csv')], axis = 0).reset_index()\n",
    "titles.drop(['index'], axis=1, inplace=True)\n",
    "titles.head(5)"
   ]
  },
  {
   "attachments": {},
   "cell_type": "markdown",
   "metadata": {},
   "source": [
    "## Duplicates\n",
    "\n",
    "Gibt es in dem Datensatz Duplikate? Wenn ja, wie viele?"
   ]
  },
  {
   "cell_type": "code",
   "execution_count": 48,
   "metadata": {},
   "outputs": [
    {
     "name": "stdout",
     "output_type": "stream",
     "text": [
      "Duplicates: 3759\n"
     ]
    }
   ],
   "source": [
    "print(f\"Duplicates: {len(titles[titles.duplicated(['id'], keep=False)])}\")"
   ]
  },
  {
   "attachments": {},
   "cell_type": "markdown",
   "metadata": {},
   "source": [
    "Entferne die Duplikate anhand der Spalte `id`."
   ]
  },
  {
   "cell_type": "code",
   "execution_count": 49,
   "metadata": {},
   "outputs": [
    {
     "name": "stdout",
     "output_type": "stream",
     "text": [
      "Duplicates: 0\n"
     ]
    }
   ],
   "source": [
    "titles.drop_duplicates(['id'], inplace=True)\n",
    "\n",
    "print(f\"Duplicates: {len(titles[titles.duplicated(['id'], keep=False)])}\")"
   ]
  }
 ],
 "metadata": {
  "kernelspec": {
   "display_name": "Python 3",
   "language": "python",
   "name": "python3"
  },
  "language_info": {
   "codemirror_mode": {
    "name": "ipython",
    "version": 3
   },
   "file_extension": ".py",
   "mimetype": "text/x-python",
   "name": "python",
   "nbconvert_exporter": "python",
   "pygments_lexer": "ipython3",
   "version": "3.11.0"
  },
  "orig_nbformat": 4
 },
 "nbformat": 4,
 "nbformat_minor": 2
}
